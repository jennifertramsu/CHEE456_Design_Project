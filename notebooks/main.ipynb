{
 "cells": [
  {
   "cell_type": "markdown",
   "metadata": {},
   "source": [
    "# Biotrickling Filter Mass Balance\n",
    "## Gas Phase\n",
    "Odorous compounds initially enter the biotrickling filter in the gas phase. As they travel through the column, these components will be in contact with the trickling liquid phase, where mass transfer occurs due to the concentration gradient between the two phases.\n",
    "\n",
    "The following assumptions are made:\n",
    "\n",
    "<li> The trickling liquid uniformly covers the biofilm. Its contact area can thus be expressed using the bed void fraction. </li>\n",
    "<li> The void fraction is assumed to be constant throughout the column. </li>\n",
    "<li> Plug flow is assumed, so mass transport is predominantly convective. </li>\n",
    "<li> The superficial velocity is constant throughout the column. </li>\n",
    "<li> Neglecting liquid phase and interfacial transfer with biofilm </li>\n",
    "\n",
    "Using these assumptions, a microscopic model is developed over a differential volume of the column. The vertical axis is represented by the variable 𝑧.\n",
    "\n",
    "$$ \\epsilon \\frac{\\delta C_g}{\\delta t} = -V_0 \\frac{\\delta C_g}{\\delta z} - \\alpha R_g$$\n",
    "\n",
    "At steady-state:\n",
    "\n",
    "$$ \\frac{\\delta C_g}{\\delta z} = -\\alpha\\frac{R_g}{V_0} $$\n",
    "\n",
    "$$ R_g = D\\frac{\\delta S}{\\delta x} |_{x=0} $$\n",
    "\n",
    "$$ \\frac{\\delta C_g}{\\delta z} = -\\alpha\\frac{1}{V_0}D\\frac{\\delta S}{\\delta x} |_{x=0} $$\n",
    "\n",
    "<!-- Shinabe et al. developed a model for the reaction rate.\n",
    "\n",
    "$$ R_g = -K_La(\\frac{C_g}{m} - C_L) $$\n",
    "\n",
    "Where $K_La$ is the volumetric mass transfer coefficient, $C_g$ is the gas phase concentration, $C_L$ is the liquid phase concentration, and $m$ is solubility constant.\n",
    "\n",
    "The volumetric mass transfer coefficient was determined by using a cell suspension under the $H_2S$ diffusion-limiting condition.\n",
    "\n",
    "$$K_La = -\\frac{V_g m}{V_L  t} ln(\\frac{C_g}{C_{g0}}) = -\\frac{\\epsilon m}{(1 - \\epsilon)  t} ln(\\frac{C_g}{C_{g0}})$$ -->\n",
    "\n",
    "<!-- ## Liquid Phase -->\n",
    "\n",
    "<!-- To begin, we will neglect the liquid phase and assume that $R_g$ is equal to the total substrate consumption rate in the bacteria.\n",
    "\n",
    "$$ R_g = -\\frac{dS}{dt} = -q_sX = -\\frac{dX/dt}{Y_{X/S}} - \\frac{dP/dt}{Y_{P/S}} - mX$$ -->\n",
    "\n",
    "\n",
    "## Biofilm\n",
    "\n",
    "The contaminants are degraded as they travel through the biofilm. Their degradation is modeled using Monod kinetics.\n",
    "\n",
    "$$ \\frac{\\delta S}{\\delta t} = D \\frac{\\delta^2S}{\\delta x^2} - Rb$$\n",
    "\n",
    "At steady-state:\n",
    "\n",
    "$$ D \\frac{\\delta^2S}{\\delta x^2} = Rb$$\n",
    "\n",
    "$$ R_b = \\frac{1}{Y_{X/S}}\\frac{dX}{dt} + \\frac{1}{Y_{P/X}}\\frac{dP}{dt}$$\n",
    "\n",
    "$$ R_b = X(\\frac{\\mu_{net}}{Y_{X/S}} + \\frac{q_p}{Y_{P/X}})$$\n",
    "\n",
    "$$ D \\frac{\\delta^2S}{\\delta x^2} = X(\\frac{\\mu_{net}}{Y_{X/S}} + \\frac{q_p}{Y_{P/X}}) $$\n",
    "\n",
    "\n",
    "### Boundary conditions\n",
    "The following boundary conditions are used:\n",
    "\n",
    "$$ C_g(z=0) = C_{g0} $$ \n",
    "\n",
    "$$ S(x=0) = \\frac{C_g(z)}{m} $$\n",
    "\n",
    "$$ \\frac{\\delta S}{\\delta x}|_{x=\\delta} = 0$$\n",
    "\n",
    "Together:\n",
    "\n",
    "$$ D\\frac{dS}{dx}|_{x=0} = \\frac{X}{Y_{X/S}}\\frac{\\mu_{max} S}{K+S}\\delta$$\n",
    "\n",
    "$$ \\frac{\\delta C_g}{\\delta z} = -\\alpha\\frac{1}{V_0} \\frac{X}{Y_{X/S}}\\frac{\\mu_{max} S}{K+S}\\delta $$\n",
    "\n",
    "$$ \\frac{\\delta C_g}{\\delta z} = -\\alpha\\frac{1}{V_0} \\frac{X}{Y_{X/S}}\\frac{\\mu_{max} \\frac{C_g}{m}}{K+ \\frac{C_g}{m}}\\delta $$\n"
   ]
  },
  {
   "cell_type": "code",
   "execution_count": 2,
   "metadata": {},
   "outputs": [],
   "source": [
    "import scipy.integrate\n",
    "import numpy as np\n",
    "import matplotlib.pyplot as plt"
   ]
  },
  {
   "cell_type": "code",
   "execution_count": 6,
   "metadata": {},
   "outputs": [],
   "source": [
    "# Initial condition\n",
    "Cg0 = 0.000195 # mg/l NH3\n",
    "Cg_to_biomass = 100/17 # mg/l biomass / mg/l NH3\n",
    "\n",
    "# Environment\n",
    "T = 20 # C\n",
    "\n",
    "# Column Parameters\n",
    "alpha = 0.9\n",
    "V0 = 0.001\n",
    "\n",
    "# Biomass Parameters\n",
    "X = Cg0 * Cg_to_biomass # mg/l biomass --> steady state\n",
    "Y = 0.08 # mg biomass / mg NH3\n",
    "mu = 0.5 # day-1\n",
    "K = 10**(0.051*T - 1.158) # mg/l NH3\n",
    "m = 0.01\n",
    "delta = 0.001\n",
    "MW_b = 5*12 + 7 + 14 + 16*2 # g/mol biomass\n",
    "\n",
    "# Function definition\n",
    "def dCgdz(Cg, z):\n",
    "    return -alpha / V0 * X / Y * mu * Cg / m / (K + Cg / m) * delta"
   ]
  },
  {
   "cell_type": "code",
   "execution_count": 4,
   "metadata": {},
   "outputs": [
    {
     "data": {
      "image/png": "[encoded data removed]",
      "text/plain": [
       "<Figure size 640x480 with 1 Axes>"
      ]
     },
     "metadata": {},
     "output_type": "display_data"
    }
   ],
   "source": [
    "# Integration grid\n",
    "z = np.linspace(0, 5, 100)\n",
    "\n",
    "# Solve ODE\n",
    "y = scipy.integrate.odeint(dCgdz, Cg0, z)\n",
    "\n",
    "# Plot\n",
    "plt.plot(z, y / Cg0)\n",
    "plt.xlabel('z [m]')\n",
    "plt.ylabel('Cg [%]')\n",
    "plt.show()"
   ]
  },
  {
   "cell_type": "markdown",
   "metadata": {},
   "source": [
    "## Biotrickling Filter Energy Balance\n",
    "\n",
    "Energy stored in the substrates is balanced by the heat stored by biomass formation and metabolic heat generation.\n",
    "\n",
    "$$\\Delta H_s \\Delta S^T = \\Delta H_c \\Delta X^T + Q_{met}$$\n",
    "\n",
    "$$\\frac{\\Delta H_s}{Y_{X/S}} = \\Delta H_c + \\frac{Q_{met}}{\\Delta X^T}$$\n",
    "\n",
    "$$\\frac{\\Delta H_s}{Y_{X/S}} = \\Delta H_c + \\frac{1}{y_H}$$\n",
    "\n",
    "Where $y_H$ is the amount of biomass produced per unit of heat generated.\n",
    "\n",
    "To obtain the cooling rate for the bioreactor, the following equation is used:\n",
    "\n",
    "$$ q_{cool} = \\frac{Q_{met}}{\\Delta t} = \\frac{\\mu_{net} X^T}{y_H}$$"
   ]
  },
  {
   "cell_type": "code",
   "execution_count": 8,
   "metadata": {},
   "outputs": [
    {
     "name": "stdout",
     "output_type": "stream",
     "text": [
      "1.6037893512493492e-05\n"
     ]
    }
   ],
   "source": [
    "# Metabolic Parameters\n",
    "dHs = 22477 / 10e6 # kJ/mg\n",
    "dHc = 15/MW_b/1000 # kJ/mg biomass\n",
    "\n",
    "# Heat production\n",
    "yH_inv = dHs/Y - dHc \n",
    "yH = 1/yH_inv # mg biomass / kJ heat produced\n",
    "q_cool = mu * X / yH # kJ/l/day\n",
    "\n",
    "print(q_cool)"
   ]
  },
  {
   "cell_type": "markdown",
   "metadata": {},
   "source": [
    "# Items to Address\n",
    "<li> Total volume </li>\n",
    "<li> Superficial velocity </li>\n",
    "<li> How to get X = f(t) </li>"
   ]
  }
 ],
 "metadata": {
  "kernelspec": {
   "display_name": "datascience",
   "language": "python",
   "name": "python3"
  },
  "language_info": {
   "codemirror_mode": {
    "name": "ipython",
    "version": 3
   },
   "file_extension": ".py",
   "mimetype": "text/x-python",
   "name": "python",
   "nbconvert_exporter": "python",
   "pygments_lexer": "ipython3",
   "version": "3.11.5"
  }
 },
 "nbformat": 4,
 "nbformat_minor": 2
}

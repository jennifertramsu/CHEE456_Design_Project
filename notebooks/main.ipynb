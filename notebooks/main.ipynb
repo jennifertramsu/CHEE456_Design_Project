{
 "cells": [
  {
   "cell_type": "markdown",
   "metadata": {},
   "source": [
    "# Biotrickling Filter Mass Balance\n",
    "## Gas Phase\n",
    "Odorous compounds initially enter the biotrickling filter in the gas phase. As they travel through the column, these components will be in contact with the trickling liquid phase, where mass transfer occurs due to the concentration gradient between the two phases.\n",
    "\n",
    "The following assumptions are made:\n",
    "\n",
    "\n",
    "<li> The trickling liquid uniformly covers the biofilm. Its contact area can thus be expressed using the bed void fraction. </li>\n",
    "<li> The void fraction is assumed to be constant throughout the column. </li>\n",
    "<li> Plug flow is assumed, so mass transport is predominantly convective. </li>\n",
    "<li> The superficial velocity is constant throughout the column. </li>\n",
    "\n",
    "Using these assumptions, a microscopic model is developed over a differential volume of the column. The vertical axis is represented by the variable 𝑧.\n",
    "\n",
    "$$ \\epsilon \\frac{\\delta C_g}{\\delta t} = -V_0 \\frac{\\delta C_g}{\\delta z} - (1 - \\epsilon) R_g$$\n",
    "\n",
    "<!-- Shinabe et al. developed a model for the reaction rate.\n",
    "\n",
    "$$ R_g = -K_La(\\frac{C_g}{m} - C_L) $$\n",
    "\n",
    "Where $K_La$ is the volumetric mass transfer coefficient, $C_g$ is the gas phase concentration, $C_L$ is the liquid phase concentration, and $m$ is solubility constant.\n",
    "\n",
    "The volumetric mass transfer coefficient was determined by using a cell suspension under the $H_2S$ diffusion-limiting condition.\n",
    "\n",
    "$$K_La = -\\frac{V_g m}{V_L  t} ln(\\frac{C_g}{C_{g0}}) = -\\frac{\\epsilon m}{(1 - \\epsilon)  t} ln(\\frac{C_g}{C_{g0}})$$\n",
    "\n",
    "## Liquid Phase -->\n",
    "\n",
    "<!-- To begin, we will neglect the liquid phase and assume that $R_g$ is equal to the total substrate consumption rate in the bacteria.\n",
    "\n",
    "$$ R_g = -\\frac{dS}{dt} = -q_sX = -\\frac{dX/dt}{Y_{X/S}} - \\frac{dP/dt}{Y_{P/S}} - mX$$ -->\n"
   ]
  }
 ],
 "metadata": {
  "language_info": {
   "name": "python"
  }
 },
 "nbformat": 4,
 "nbformat_minor": 2
}
